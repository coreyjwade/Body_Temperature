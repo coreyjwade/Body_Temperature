{
 "cells": [
  {
   "cell_type": "markdown",
   "metadata": {},
   "source": [
    "# What is the True Normal Human Body Temperature? \n",
    "\n",
    "#### Background\n",
    "\n",
    "The mean normal body temperature was held to be 37$^{\\circ}$C or 98.6$^{\\circ}$F for more than 120 years since it was first conceptualized and reported by Carl Wunderlich in a famous 1868 book. But, is this value statistically correct?"
   ]
  },
  {
   "cell_type": "markdown",
   "metadata": {},
   "source": [
    "We will examine a dataset taken from Mackowiak, P. A., Wasserman, S. S., and Levine, M. M.  (1992), \"A Critical Appraisal of 98.6 Degrees F, the Upper Limit of the Normal Body Temperature, and Other Legacies of Carl Reinhold August Wunderlich,\" _Journal of the American Medical Association_, 268, 1578-1580. \n",
    "\n",
    "A summary is provided at https://ww2.amstat.org/publications/jse/datasets/normtemp.txt."
   ]
  },
  {
   "cell_type": "markdown",
   "metadata": {},
   "source": [
    "<h3>Plan</h3>\n",
    "\n",
    "<p>We will analyze the dataset and employ the concepts of hypothesis testing, confidence intervals, and statistical significance using frequentist, bootstrap and permutation methods. We set out to answer the following questions.</p> \n",
    "\n",
    "<ol>\n",
    "<li>  Is the distribution of body temperatures normal? \n",
    "<li>  Is the sample size large? Are the observations independent?\n",
    "<li>  Is the true population mean really 98.6 degrees F?\n",
    "<li>  Should we use z or t-tests?\n",
    "<li>  Do different tests give significantly different results?\n",
    "<li>  What about different sample sizes?\n",
    "<li>  At what temperature should we consider someone's temperature to be \"abnormal\"?\n",
    "<li>  Is there a significant difference between males and females in normal temperature?"
   ]
  },
  {
   "cell_type": "markdown",
   "metadata": {},
   "source": [
    "## Import Libraries"
   ]
  },
  {
   "cell_type": "code",
   "execution_count": 4,
   "metadata": {},
   "outputs": [],
   "source": [
    "import pandas as pd\n",
    "import matplotlib.pyplot as plt\n",
    "import numpy as np"
   ]
  },
  {
   "cell_type": "markdown",
   "metadata": {},
   "source": [
    "## Open Dataset"
   ]
  },
  {
   "cell_type": "code",
   "execution_count": 5,
   "metadata": {},
   "outputs": [],
   "source": [
    "df = pd.read_csv('data/human_body_temperature.csv')"
   ]
  },
  {
   "cell_type": "markdown",
   "metadata": {},
   "source": [
    "## Check Data"
   ]
  },
  {
   "cell_type": "code",
   "execution_count": 6,
   "metadata": {},
   "outputs": [
    {
     "data": {
      "text/plain": [
       "(130, 3)"
      ]
     },
     "execution_count": 6,
     "metadata": {},
     "output_type": "execute_result"
    }
   ],
   "source": [
    "df.shape"
   ]
  },
  {
   "cell_type": "markdown",
   "metadata": {},
   "source": [
    "130 rows is not substantial, so we will have to be careful using statistics."
   ]
  },
  {
   "cell_type": "code",
   "execution_count": 7,
   "metadata": {},
   "outputs": [
    {
     "data": {
      "text/html": [
       "<div>\n",
       "<style scoped>\n",
       "    .dataframe tbody tr th:only-of-type {\n",
       "        vertical-align: middle;\n",
       "    }\n",
       "\n",
       "    .dataframe tbody tr th {\n",
       "        vertical-align: top;\n",
       "    }\n",
       "\n",
       "    .dataframe thead th {\n",
       "        text-align: right;\n",
       "    }\n",
       "</style>\n",
       "<table border=\"1\" class=\"dataframe\">\n",
       "  <thead>\n",
       "    <tr style=\"text-align: right;\">\n",
       "      <th></th>\n",
       "      <th>temperature</th>\n",
       "      <th>heart_rate</th>\n",
       "    </tr>\n",
       "  </thead>\n",
       "  <tbody>\n",
       "    <tr>\n",
       "      <th>count</th>\n",
       "      <td>130.000000</td>\n",
       "      <td>130.000000</td>\n",
       "    </tr>\n",
       "    <tr>\n",
       "      <th>mean</th>\n",
       "      <td>98.249231</td>\n",
       "      <td>73.761538</td>\n",
       "    </tr>\n",
       "    <tr>\n",
       "      <th>std</th>\n",
       "      <td>0.733183</td>\n",
       "      <td>7.062077</td>\n",
       "    </tr>\n",
       "    <tr>\n",
       "      <th>min</th>\n",
       "      <td>96.300000</td>\n",
       "      <td>57.000000</td>\n",
       "    </tr>\n",
       "    <tr>\n",
       "      <th>25%</th>\n",
       "      <td>97.800000</td>\n",
       "      <td>69.000000</td>\n",
       "    </tr>\n",
       "    <tr>\n",
       "      <th>50%</th>\n",
       "      <td>98.300000</td>\n",
       "      <td>74.000000</td>\n",
       "    </tr>\n",
       "    <tr>\n",
       "      <th>75%</th>\n",
       "      <td>98.700000</td>\n",
       "      <td>79.000000</td>\n",
       "    </tr>\n",
       "    <tr>\n",
       "      <th>max</th>\n",
       "      <td>100.800000</td>\n",
       "      <td>89.000000</td>\n",
       "    </tr>\n",
       "  </tbody>\n",
       "</table>\n",
       "</div>"
      ],
      "text/plain": [
       "       temperature  heart_rate\n",
       "count   130.000000  130.000000\n",
       "mean     98.249231   73.761538\n",
       "std       0.733183    7.062077\n",
       "min      96.300000   57.000000\n",
       "25%      97.800000   69.000000\n",
       "50%      98.300000   74.000000\n",
       "75%      98.700000   79.000000\n",
       "max     100.800000   89.000000"
      ]
     },
     "execution_count": 7,
     "metadata": {},
     "output_type": "execute_result"
    }
   ],
   "source": [
    "df.describe()"
   ]
  },
  {
   "cell_type": "markdown",
   "metadata": {},
   "source": [
    "Note that the median is 98.25, and the mean is 98.3, both less than 98.6. The proximity of mean and median imply a normal distribution."
   ]
  },
  {
   "cell_type": "code",
   "execution_count": 8,
   "metadata": {},
   "outputs": [
    {
     "name": "stdout",
     "output_type": "stream",
     "text": [
      "<class 'pandas.core.frame.DataFrame'>\n",
      "RangeIndex: 130 entries, 0 to 129\n",
      "Data columns (total 3 columns):\n",
      "temperature    130 non-null float64\n",
      "gender         130 non-null object\n",
      "heart_rate     130 non-null float64\n",
      "dtypes: float64(2), object(1)\n",
      "memory usage: 3.1+ KB\n"
     ]
    }
   ],
   "source": [
    "df.info()"
   ]
  },
  {
   "cell_type": "markdown",
   "metadata": {},
   "source": [
    "Confirms that the temperature column is a float."
   ]
  },
  {
   "cell_type": "code",
   "execution_count": 9,
   "metadata": {},
   "outputs": [
    {
     "data": {
      "text/html": [
       "<div>\n",
       "<style scoped>\n",
       "    .dataframe tbody tr th:only-of-type {\n",
       "        vertical-align: middle;\n",
       "    }\n",
       "\n",
       "    .dataframe tbody tr th {\n",
       "        vertical-align: top;\n",
       "    }\n",
       "\n",
       "    .dataframe thead th {\n",
       "        text-align: right;\n",
       "    }\n",
       "</style>\n",
       "<table border=\"1\" class=\"dataframe\">\n",
       "  <thead>\n",
       "    <tr style=\"text-align: right;\">\n",
       "      <th></th>\n",
       "      <th>temperature</th>\n",
       "      <th>gender</th>\n",
       "      <th>heart_rate</th>\n",
       "    </tr>\n",
       "  </thead>\n",
       "  <tbody>\n",
       "    <tr>\n",
       "      <th>0</th>\n",
       "      <td>99.3</td>\n",
       "      <td>F</td>\n",
       "      <td>68.0</td>\n",
       "    </tr>\n",
       "    <tr>\n",
       "      <th>1</th>\n",
       "      <td>98.4</td>\n",
       "      <td>F</td>\n",
       "      <td>81.0</td>\n",
       "    </tr>\n",
       "    <tr>\n",
       "      <th>2</th>\n",
       "      <td>97.8</td>\n",
       "      <td>M</td>\n",
       "      <td>73.0</td>\n",
       "    </tr>\n",
       "    <tr>\n",
       "      <th>3</th>\n",
       "      <td>99.2</td>\n",
       "      <td>F</td>\n",
       "      <td>66.0</td>\n",
       "    </tr>\n",
       "    <tr>\n",
       "      <th>4</th>\n",
       "      <td>98.0</td>\n",
       "      <td>F</td>\n",
       "      <td>73.0</td>\n",
       "    </tr>\n",
       "  </tbody>\n",
       "</table>\n",
       "</div>"
      ],
      "text/plain": [
       "   temperature gender  heart_rate\n",
       "0         99.3      F        68.0\n",
       "1         98.4      F        81.0\n",
       "2         97.8      M        73.0\n",
       "3         99.2      F        66.0\n",
       "4         98.0      F        73.0"
      ]
     },
     "execution_count": 9,
     "metadata": {},
     "output_type": "execute_result"
    }
   ],
   "source": [
    "df.head()"
   ]
  },
  {
   "cell_type": "markdown",
   "metadata": {},
   "source": [
    "Could males and females have different mean temperatures? We will explore this later on."
   ]
  },
  {
   "cell_type": "markdown",
   "metadata": {},
   "source": [
    "## Temperature Graphs"
   ]
  },
  {
   "cell_type": "code",
   "execution_count": 10,
   "metadata": {},
   "outputs": [],
   "source": [
    "import seaborn as sns\n",
    "sns.set()"
   ]
  },
  {
   "cell_type": "markdown",
   "metadata": {},
   "source": [
    "I like using seaborn because of the background grid."
   ]
  },
  {
   "cell_type": "markdown",
   "metadata": {},
   "source": [
    "### Histogram"
   ]
  },
  {
   "cell_type": "code",
   "execution_count": 11,
   "metadata": {},
   "outputs": [
    {
     "data": {
      "image/png": "[encoded data removed]",
      "text/plain": [
       "<matplotlib.figure.Figure at 0x1140d8198>"
      ]
     },
     "metadata": {},
     "output_type": "display_data"
    }
   ],
   "source": [
    "# Plot the histogram with default number of bins.\n",
    "_= plt.hist(df['temperature'], edgecolor='k')\n",
    "_= plt.xlabel('Temperature')\n",
    "_= plt.ylabel('Frequency')\n",
    "_= plt.title('Temperature Distribution')\n",
    "\n",
    "# Show the plot\n",
    "plt.show()"
   ]
  },
  {
   "cell_type": "markdown",
   "metadata": {},
   "source": [
    "This is close to a normal distribution, although more data points are to the left."
   ]
  },
  {
   "cell_type": "markdown",
   "metadata": {},
   "source": [
    "### CDF"
   ]
  },
  {
   "cell_type": "code",
   "execution_count": 129,
   "metadata": {},
   "outputs": [],
   "source": [
    "#Provides the paramaters to plot a cdf\n",
    "def ecdf(data):\n",
    "    \"\"\"Compute ECDF for a one-dimensional array of measurements.\"\"\"\n",
    "\n",
    "    # Number of data points: n\n",
    "    n = len(data)\n",
    "\n",
    "    # x-data for the ECDF: x\n",
    "    x = np.sort(data)\n",
    "\n",
    "    # y-data for the ECDF: y\n",
    "    y = np.arange(1, n+1) / n\n",
    "\n",
    "    return x, y"
   ]
  },
  {
   "cell_type": "code",
   "execution_count": 148,
   "metadata": {},
   "outputs": [],
   "source": [
    "# Function to plot cdf and compare to normal distribution\n",
    "def graph_ecdf(data):\n",
    "    x, y = ecdf(data)\n",
    "\n",
    "    # Generate plot\n",
    "    plt.plot(x, y, marker='.', linestyle='none')\n",
    "\n",
    "    # Make the margins nice\n",
    "    plt.margins(.02)\n",
    "\n",
    "    # Label the axes\n",
    "    plt.xlabel('Temperature')\n",
    "    plt.ylabel('ECDF')\n",
    "    plt.title('Temperature Cumulative Distribution')\n",
    "    \n",
    "    #Compare with normal distribution of data\n",
    "    mean = np.mean(data)\n",
    "    std = np.std(data)\n",
    "    samples = np.random.normal(mean, std, size=10000)\n",
    "    x_theor, y_theor = ecdf(samples)\n",
    "    plt.plot(x_theor, y_theor)\n",
    "    \n",
    "\n",
    "    #Show the plot\n",
    "    plt.show()"
   ]
  },
  {
   "cell_type": "code",
   "execution_count": 149,
   "metadata": {},
   "outputs": [
    {
     "data": {
      "image/png": "[encoded data removed]",
      "text/plain": [
       "<matplotlib.figure.Figure at 0x1a1e7db8d0>"
      ]
     },
     "metadata": {},
     "output_type": "display_data"
    }
   ],
   "source": [
    "#Graph function using our data\n",
    "graph_ecdf(df.temperature)"
   ]
  },
  {
   "cell_type": "markdown",
   "metadata": {},
   "source": [
    "That is beautifully normal! It appears there may be a few more data points to the left. Note that the CDF is generally a better test for normality since it does not rely on the number of bins."
   ]
  },
  {
   "cell_type": "code",
   "execution_count": 14,
   "metadata": {},
   "outputs": [
    {
     "data": {
      "text/plain": [
       "temperature    64\n",
       "gender         64\n",
       "heart_rate     64\n",
       "dtype: int64"
      ]
     },
     "execution_count": 14,
     "metadata": {},
     "output_type": "execute_result"
    }
   ],
   "source": [
    "df[df['temperature'] < df['temperature'].median()].count()"
   ]
  },
  {
   "cell_type": "markdown",
   "metadata": {},
   "source": [
    "Data points to the left of the median are very close to exactly half. For comparison, we can check data points to the right. "
   ]
  },
  {
   "cell_type": "code",
   "execution_count": 15,
   "metadata": {},
   "outputs": [
    {
     "data": {
      "text/plain": [
       "temperature    61\n",
       "gender         61\n",
       "heart_rate     61\n",
       "dtype: int64"
      ]
     },
     "execution_count": 15,
     "metadata": {},
     "output_type": "execute_result"
    }
   ],
   "source": [
    "df[df['temperature'] > df['temperature'].median()].count()"
   ]
  },
  {
   "cell_type": "code",
   "execution_count": 16,
   "metadata": {},
   "outputs": [
    {
     "data": {
      "text/plain": [
       "temperature    5\n",
       "gender         5\n",
       "heart_rate     5\n",
       "dtype: int64"
      ]
     },
     "execution_count": 16,
     "metadata": {},
     "output_type": "execute_result"
    }
   ],
   "source": [
    "df[df['temperature'] == df['temperature'].median()].count()"
   ]
  },
  {
   "cell_type": "markdown",
   "metadata": {},
   "source": [
    "Including the 5 points equal to the median, they sum to 130 as expected. The graph is not skewed. We can proceed assuming that our data is approximately normal."
   ]
  },
  {
   "cell_type": "markdown",
   "metadata": {},
   "source": [
    "## Independence"
   ]
  },
  {
   "cell_type": "markdown",
   "metadata": {},
   "source": [
    "We can assume independence since the body temperature of 1 individual presumably has no effect on another."
   ]
  },
  {
   "cell_type": "markdown",
   "metadata": {},
   "source": [
    "## Large Counts"
   ]
  },
  {
   "cell_type": "markdown",
   "metadata": {},
   "source": [
    "Since we have 130>30 samples, the Central Limit Theorem Applies. (Note that our distribution is approximatley normal, so the CLT would apply even if n<30.)"
   ]
  },
  {
   "cell_type": "markdown",
   "metadata": {},
   "source": [
    "## Hypothesis Tests"
   ]
  },
  {
   "cell_type": "markdown",
   "metadata": {},
   "source": [
    "Our null hypothesis is that the mean human body temperature is 98.6 as stated by Wunderlich. We will investigate this claim starting with a bootstrap test."
   ]
  },
  {
   "cell_type": "markdown",
   "metadata": {},
   "source": [
    "## Bootstrap Test"
   ]
  },
  {
   "cell_type": "markdown",
   "metadata": {},
   "source": [
    "Bootstrapping means that we will resample our data with replacement and compute the mean each time."
   ]
  },
  {
   "cell_type": "markdown",
   "metadata": {},
   "source": [
    "### Define Bootstrap Functions"
   ]
  },
  {
   "cell_type": "code",
   "execution_count": 17,
   "metadata": {},
   "outputs": [],
   "source": [
    "#Returns the result of a function, like np.mean\n",
    "def bootstrap_replicate_1d(data, func):\n",
    "    return func(np.random.choice(data, size=len(data)))\n",
    "\n",
    "#Produces desired function, like np.mean, for all replicants of size=x\n",
    "def draw_bs_reps(data, func, size=1):\n",
    "    \"\"\"Draw bootstrap replicates.\"\"\"\n",
    "\n",
    "    # Initialize array of replicates: bs_replicates\n",
    "    bs_replicates = np.empty(size)\n",
    "\n",
    "    # Generate replicates\n",
    "    for i in range(size):\n",
    "        bs_replicates[i] = bootstrap_replicate_1d(data, func)\n",
    "\n",
    "    return bs_replicates"
   ]
  },
  {
   "cell_type": "markdown",
   "metadata": {},
   "source": [
    "### Bootstrap Temperature Mean"
   ]
  },
  {
   "cell_type": "code",
   "execution_count": 18,
   "metadata": {},
   "outputs": [
    {
     "name": "stdout",
     "output_type": "stream",
     "text": [
      "SEM:  0.06405661469519336\n",
      "STD:  0.0635160125689791\n"
     ]
    },
    {
     "data": {
      "image/png": "[encoded data removed]",
      "text/plain": [
       "<matplotlib.figure.Figure at 0x11427fef0>"
      ]
     },
     "metadata": {},
     "output_type": "display_data"
    },
    {
     "name": "stdout",
     "output_type": "stream",
     "text": [
      "Given our sample, the proability that the mean temperature is 98.6 is  0.0\n"
     ]
    }
   ],
   "source": [
    "# Take 10,000 bootstrap replicates of the mean: bs_replicates\n",
    "bs_replicates = draw_bs_reps(df.temperature, np.mean, size=10000)\n",
    "\n",
    "# Compute and print SEM (Standard Error of the Mean)\n",
    "sem = np.std(df.temperature) / np.sqrt(len(df.temperature))\n",
    "print(\"SEM: \", sem)\n",
    "\n",
    "# Compute and print standard deviation of bootstrap replicates\n",
    "bs_std = np.std(bs_replicates)\n",
    "print(\"STD: \", bs_std)\n",
    "\n",
    "# Make a histogram of the results\n",
    "_ = plt.hist(bs_replicates, bins=50, normed=True)\n",
    "_ = plt.xlabel('Mean Temperature')\n",
    "_ = plt.ylabel('PDF')\n",
    "_ = plt.title('Bootstrap Mean Temperature')\n",
    "\n",
    "# Show the plot\n",
    "plt.show()\n",
    "\n",
    "#Find the probability of 98.6\n",
    "p = np.sum(bs_replicates >= 98.6) / len(bs_replicates)\n",
    "print('Given our sample, the proability that the mean temperature is 98.6 is ', p)"
   ]
  },
  {
   "cell_type": "markdown",
   "metadata": {},
   "source": [
    "Extraordinary! But how confident are we that the mean presented in the histogram above is accurate?"
   ]
  },
  {
   "cell_type": "markdown",
   "metadata": {},
   "source": [
    "### Bootstrap Confidence Interval"
   ]
  },
  {
   "cell_type": "code",
   "execution_count": null,
   "metadata": {},
   "outputs": [],
   "source": [
    "# Function to Compute Confidence Interval\n",
    "def confidence_Interval(percent, data):\n",
    "    split_percent = (100-percent)/2\n",
    "    return np.percentile(data,[split_percent, percent + split_percent])"
   ]
  },
  {
   "cell_type": "code",
   "execution_count": 51,
   "metadata": {},
   "outputs": [
    {
     "name": "stdout",
     "output_type": "stream",
     "text": [
      "We are 99% confident that the range of  [98.08153462 98.41154231]  captures the true mean.\n"
     ]
    }
   ],
   "source": [
    "# This is a 99% Confidence Interval\n",
    "ci = confidence_Interval(99, bs_replicates)\n",
    "print(\"We are 99% confident that the range of \", ci, \" captures the true mean.\")"
   ]
  },
  {
   "cell_type": "markdown",
   "metadata": {},
   "source": [
    "Since 98.6 falls outside of the 99% Confidence Interval, we reject the null hypothesis. The true mean is not 98.6."
   ]
  },
  {
   "cell_type": "markdown",
   "metadata": {},
   "source": [
    "## Frequentist Temperature Mean"
   ]
  },
  {
   "cell_type": "markdown",
   "metadata": {},
   "source": [
    "Let's try the same approach using frequentist methods. Since we do not know the standard deviation of the population, a one-sample t-test is warranted."
   ]
  },
  {
   "cell_type": "markdown",
   "metadata": {},
   "source": [
    "### Define t-score / p-value functions"
   ]
  },
  {
   "cell_type": "code",
   "execution_count": 20,
   "metadata": {},
   "outputs": [],
   "source": [
    "#tscore function for mean\n",
    "def tscore_mean(statistic, parameter, size):\n",
    "    tscore = (statistic - parameter.mean())/(parameter.std()/size**0.5)\n",
    "    return tscore\n",
    "\n",
    "#convert tscore to p-value\n",
    "def pvalue_fromt(tscore, size):\n",
    "    import scipy.stats as stats\n",
    "    #assumes 2-sided t-value\n",
    "    pvalue = stats.t.sf(tscore, (size-1))*2\n",
    "    return pvalue"
   ]
  },
  {
   "cell_type": "markdown",
   "metadata": {},
   "source": [
    "### Compute t-score / p-value"
   ]
  },
  {
   "cell_type": "code",
   "execution_count": 23,
   "metadata": {},
   "outputs": [
    {
     "name": "stdout",
     "output_type": "stream",
     "text": [
      "t-score:  5.454823292364079\n",
      "p-value:  2.4106320415609943e-07\n"
     ]
    }
   ],
   "source": [
    "tscore = tscore_mean(98.6, df.temperature, 130)\n",
    "p = pvalue_fromt(tscore, 130)\n",
    "print('t-score: ', tscore)\n",
    "print('p-value: ', p)"
   ]
  },
  {
   "cell_type": "markdown",
   "metadata": {},
   "source": [
    "The probability is very close to 0! Again, we convincingly reject the null hypothesis. According to our sample, there is a 0.00000024 percent chance that the mean temperature is 98.6."
   ]
  },
  {
   "cell_type": "markdown",
   "metadata": {},
   "source": [
    "Let's compare this result with the p-value we obtain from using a z-score. Since our sample size is above 30, the results should not significantly differ. "
   ]
  },
  {
   "cell_type": "markdown",
   "metadata": {},
   "source": [
    "### Define z-score / p-value functions"
   ]
  },
  {
   "cell_type": "code",
   "execution_count": 25,
   "metadata": {},
   "outputs": [],
   "source": [
    "#zscore function for means\n",
    "def zscore_mean(statistic, parameter, size=1):\n",
    "    zscore = (statistic - parameter.mean())/(parameter.std()/size**0.5)\n",
    "    return zscore\n",
    "\n",
    "#convert zscore to p-value\n",
    "def pvalue(zscore):\n",
    "    import scipy.stats as stats\n",
    "    prob = 1 - stats.norm.cdf(zscore)\n",
    "    return prob"
   ]
  },
  {
   "cell_type": "markdown",
   "metadata": {},
   "source": [
    "### Compute z-score / p-value"
   ]
  },
  {
   "cell_type": "code",
   "execution_count": 26,
   "metadata": {},
   "outputs": [
    {
     "name": "stdout",
     "output_type": "stream",
     "text": [
      "z-score:  5.454823292364079\n",
      "p-value:  2.451078506826576e-08\n"
     ]
    }
   ],
   "source": [
    "zscore = zscore_mean(98.6, df.temperature, 130)\n",
    "p = pvalue(zscore)\n",
    "print('z-score: ', zscore)\n",
    "print('p-value: ', p)"
   ]
  },
  {
   "cell_type": "markdown",
   "metadata": {},
   "source": [
    "Very close to 0. Note that the p-value is less because a normal distribution has 0 degrees of freedom. "
   ]
  },
  {
   "cell_type": "markdown",
   "metadata": {},
   "source": [
    "## Sample Size of 10"
   ]
  },
  {
   "cell_type": "markdown",
   "metadata": {},
   "source": [
    "If our sample size was only 10 subjects, we would likely obtain different results. Let's see just how different."
   ]
  },
  {
   "cell_type": "code",
   "execution_count": 28,
   "metadata": {},
   "outputs": [],
   "source": [
    "df_10 = df.sample(10)"
   ]
  },
  {
   "cell_type": "code",
   "execution_count": 30,
   "metadata": {},
   "outputs": [
    {
     "data": {
      "text/html": [
       "<div>\n",
       "<style scoped>\n",
       "    .dataframe tbody tr th:only-of-type {\n",
       "        vertical-align: middle;\n",
       "    }\n",
       "\n",
       "    .dataframe tbody tr th {\n",
       "        vertical-align: top;\n",
       "    }\n",
       "\n",
       "    .dataframe thead th {\n",
       "        text-align: right;\n",
       "    }\n",
       "</style>\n",
       "<table border=\"1\" class=\"dataframe\">\n",
       "  <thead>\n",
       "    <tr style=\"text-align: right;\">\n",
       "      <th></th>\n",
       "      <th>temperature</th>\n",
       "      <th>gender</th>\n",
       "      <th>heart_rate</th>\n",
       "    </tr>\n",
       "  </thead>\n",
       "  <tbody>\n",
       "    <tr>\n",
       "      <th>101</th>\n",
       "      <td>98.5</td>\n",
       "      <td>M</td>\n",
       "      <td>68.0</td>\n",
       "    </tr>\n",
       "    <tr>\n",
       "      <th>76</th>\n",
       "      <td>98.0</td>\n",
       "      <td>F</td>\n",
       "      <td>76.0</td>\n",
       "    </tr>\n",
       "    <tr>\n",
       "      <th>42</th>\n",
       "      <td>96.9</td>\n",
       "      <td>M</td>\n",
       "      <td>74.0</td>\n",
       "    </tr>\n",
       "    <tr>\n",
       "      <th>5</th>\n",
       "      <td>99.2</td>\n",
       "      <td>M</td>\n",
       "      <td>83.0</td>\n",
       "    </tr>\n",
       "    <tr>\n",
       "      <th>14</th>\n",
       "      <td>97.8</td>\n",
       "      <td>F</td>\n",
       "      <td>77.0</td>\n",
       "    </tr>\n",
       "    <tr>\n",
       "      <th>21</th>\n",
       "      <td>98.2</td>\n",
       "      <td>M</td>\n",
       "      <td>71.0</td>\n",
       "    </tr>\n",
       "    <tr>\n",
       "      <th>15</th>\n",
       "      <td>98.8</td>\n",
       "      <td>F</td>\n",
       "      <td>83.0</td>\n",
       "    </tr>\n",
       "    <tr>\n",
       "      <th>75</th>\n",
       "      <td>98.8</td>\n",
       "      <td>M</td>\n",
       "      <td>78.0</td>\n",
       "    </tr>\n",
       "    <tr>\n",
       "      <th>129</th>\n",
       "      <td>98.7</td>\n",
       "      <td>F</td>\n",
       "      <td>59.0</td>\n",
       "    </tr>\n",
       "    <tr>\n",
       "      <th>93</th>\n",
       "      <td>97.1</td>\n",
       "      <td>M</td>\n",
       "      <td>73.0</td>\n",
       "    </tr>\n",
       "  </tbody>\n",
       "</table>\n",
       "</div>"
      ],
      "text/plain": [
       "     temperature gender  heart_rate\n",
       "101         98.5      M        68.0\n",
       "76          98.0      F        76.0\n",
       "42          96.9      M        74.0\n",
       "5           99.2      M        83.0\n",
       "14          97.8      F        77.0\n",
       "21          98.2      M        71.0\n",
       "15          98.8      F        83.0\n",
       "75          98.8      M        78.0\n",
       "129         98.7      F        59.0\n",
       "93          97.1      M        73.0"
      ]
     },
     "execution_count": 30,
     "metadata": {},
     "output_type": "execute_result"
    }
   ],
   "source": [
    "df_10"
   ]
  },
  {
   "cell_type": "code",
   "execution_count": 34,
   "metadata": {},
   "outputs": [
    {
     "data": {
      "text/html": [
       "<div>\n",
       "<style scoped>\n",
       "    .dataframe tbody tr th:only-of-type {\n",
       "        vertical-align: middle;\n",
       "    }\n",
       "\n",
       "    .dataframe tbody tr th {\n",
       "        vertical-align: top;\n",
       "    }\n",
       "\n",
       "    .dataframe thead th {\n",
       "        text-align: right;\n",
       "    }\n",
       "</style>\n",
       "<table border=\"1\" class=\"dataframe\">\n",
       "  <thead>\n",
       "    <tr style=\"text-align: right;\">\n",
       "      <th></th>\n",
       "      <th>temperature</th>\n",
       "      <th>heart_rate</th>\n",
       "    </tr>\n",
       "  </thead>\n",
       "  <tbody>\n",
       "    <tr>\n",
       "      <th>count</th>\n",
       "      <td>10.000000</td>\n",
       "      <td>10.000000</td>\n",
       "    </tr>\n",
       "    <tr>\n",
       "      <th>mean</th>\n",
       "      <td>98.200000</td>\n",
       "      <td>74.200000</td>\n",
       "    </tr>\n",
       "    <tr>\n",
       "      <th>std</th>\n",
       "      <td>0.757188</td>\n",
       "      <td>7.161626</td>\n",
       "    </tr>\n",
       "    <tr>\n",
       "      <th>min</th>\n",
       "      <td>96.900000</td>\n",
       "      <td>59.000000</td>\n",
       "    </tr>\n",
       "    <tr>\n",
       "      <th>25%</th>\n",
       "      <td>97.850000</td>\n",
       "      <td>71.500000</td>\n",
       "    </tr>\n",
       "    <tr>\n",
       "      <th>50%</th>\n",
       "      <td>98.350000</td>\n",
       "      <td>75.000000</td>\n",
       "    </tr>\n",
       "    <tr>\n",
       "      <th>75%</th>\n",
       "      <td>98.775000</td>\n",
       "      <td>77.750000</td>\n",
       "    </tr>\n",
       "    <tr>\n",
       "      <th>max</th>\n",
       "      <td>99.200000</td>\n",
       "      <td>83.000000</td>\n",
       "    </tr>\n",
       "  </tbody>\n",
       "</table>\n",
       "</div>"
      ],
      "text/plain": [
       "       temperature  heart_rate\n",
       "count    10.000000   10.000000\n",
       "mean     98.200000   74.200000\n",
       "std       0.757188    7.161626\n",
       "min      96.900000   59.000000\n",
       "25%      97.850000   71.500000\n",
       "50%      98.350000   75.000000\n",
       "75%      98.775000   77.750000\n",
       "max      99.200000   83.000000"
      ]
     },
     "execution_count": 34,
     "metadata": {},
     "output_type": "execute_result"
    }
   ],
   "source": [
    "df_10.describe()"
   ]
  },
  {
   "cell_type": "markdown",
   "metadata": {},
   "source": [
    "### t-Score"
   ]
  },
  {
   "cell_type": "code",
   "execution_count": 33,
   "metadata": {},
   "outputs": [
    {
     "name": "stdout",
     "output_type": "stream",
     "text": [
      "t-score:  1.6705381391690775\n",
      "p-value:  0.129150170064759\n"
     ]
    }
   ],
   "source": [
    "tscore = tscore_mean(98.6, df_10.temperature, 10)\n",
    "p = pvalue_fromt(tscore, 10)\n",
    "print('t-score: ', tscore)\n",
    "print('p-value: ', p)"
   ]
  },
  {
   "cell_type": "markdown",
   "metadata": {},
   "source": [
    "The probability is no longer significant."
   ]
  },
  {
   "cell_type": "markdown",
   "metadata": {},
   "source": [
    "### z-score"
   ]
  },
  {
   "cell_type": "code",
   "execution_count": 36,
   "metadata": {},
   "outputs": [
    {
     "name": "stdout",
     "output_type": "stream",
     "text": [
      "z-score:  1.6705381391690775\n",
      "p-value:  0.04740647004897469\n"
     ]
    }
   ],
   "source": [
    "zscore = zscore_mean(98.6, df_10.temperature, 10)\n",
    "p = pvalue(zscore)\n",
    "print('z-score: ', zscore)\n",
    "print('p-value: ', p)"
   ]
  },
  {
   "cell_type": "markdown",
   "metadata": {},
   "source": [
    "Although the z-score is significant at a 95% level, the test is not warranted since our sample size is less than 30. It's also unlikely to be normally distributed. We can check by graphing the ECDF."
   ]
  },
  {
   "cell_type": "markdown",
   "metadata": {},
   "source": [
    "### Check CDF"
   ]
  },
  {
   "cell_type": "code",
   "execution_count": 41,
   "metadata": {},
   "outputs": [
    {
     "data": {
      "image/png": "[encoded data removed]",
      "text/plain": [
       "<matplotlib.figure.Figure at 0x1a1e3f8390>"
      ]
     },
     "metadata": {},
     "output_type": "display_data"
    }
   ],
   "source": [
    "graph_ecdf(df_10.temperature)"
   ]
  },
  {
   "cell_type": "markdown",
   "metadata": {},
   "source": [
    "It's the right general shape, but there's not enough data points to infer that it's normal."
   ]
  },
  {
   "cell_type": "markdown",
   "metadata": {},
   "source": [
    "## Abnormal Temperatures?"
   ]
  },
  {
   "cell_type": "markdown",
   "metadata": {},
   "source": [
    "What is abnormal? It is standard practice to use 95% as a normal range. That number, however, is historical and somewhat arbitrary. I will consider both 95% and 99% ranges. We can call our Confidence Interval function, defined earlier, to generate these intervals."
   ]
  },
  {
   "cell_type": "markdown",
   "metadata": {},
   "source": [
    "### Frequentist Method"
   ]
  },
  {
   "cell_type": "code",
   "execution_count": 161,
   "metadata": {},
   "outputs": [
    {
     "name": "stdout",
     "output_type": "stream",
     "text": [
      "Normal temps: [96.7225 99.4775] in range 95%.\n"
     ]
    }
   ],
   "source": [
    "abnormal_temp = confidence_Interval(95, df.temperature)\n",
    "print(\"Normal temps:\", abnormal_temp, \"in range 95%.\")"
   ]
  },
  {
   "cell_type": "code",
   "execution_count": 162,
   "metadata": {},
   "outputs": [
    {
     "name": "stdout",
     "output_type": "stream",
     "text": [
      "Normal temps: [ 96.3645 100.284 ] in range 99%.\n"
     ]
    }
   ],
   "source": [
    "abnormal_temp2 = confidence_Interval(99, df.temperature)\n",
    "print(\"Normal temps:\", abnormal_temp2, \"in range 99%.\")"
   ]
  },
  {
   "cell_type": "markdown",
   "metadata": {},
   "source": [
    "This is a little closer to the expected norm of 100 meaning someone has a fever."
   ]
  },
  {
   "cell_type": "markdown",
   "metadata": {},
   "source": [
    "### Bootstrap Method"
   ]
  },
  {
   "cell_type": "code",
   "execution_count": 163,
   "metadata": {},
   "outputs": [
    {
     "name": "stdout",
     "output_type": "stream",
     "text": [
      "Normal temps: [96.7 99.5] in range 95%.\n"
     ]
    }
   ],
   "source": [
    "bootstrap_data = np.random.choice(df.temperature, size=10000)\n",
    "abnormal_temp_bs = confidence_Interval(95, bootstrap_data)\n",
    "print(\"Normal temps:\", abnormal_temp_bs, \"in range 95%.\")"
   ]
  },
  {
   "cell_type": "markdown",
   "metadata": {},
   "source": [
    "This is very close to the actual data."
   ]
  },
  {
   "cell_type": "code",
   "execution_count": 164,
   "metadata": {},
   "outputs": [
    {
     "name": "stdout",
     "output_type": "stream",
     "text": [
      "Normal temps: [ 96.3 100.8] in range 99.0%.\n"
     ]
    }
   ],
   "source": [
    "abnormal_temp2_bs = confidence_Interval(99, bootstrap_data)\n",
    "print(\"Normal temps:\", abnormal_temp2_bs, \"in range 99.0%.\")"
   ]
  },
  {
   "cell_type": "markdown",
   "metadata": {},
   "source": [
    "Close, but the max norm appears a little high."
   ]
  },
  {
   "cell_type": "markdown",
   "metadata": {},
   "source": [
    "## Gender Difference?"
   ]
  },
  {
   "cell_type": "markdown",
   "metadata": {},
   "source": [
    "Is there a difference in normal temperature between males and females? Let's analyze the data to find out."
   ]
  },
  {
   "cell_type": "markdown",
   "metadata": {},
   "source": [
    "### Explore Male/Female DataFrames"
   ]
  },
  {
   "cell_type": "code",
   "execution_count": 117,
   "metadata": {},
   "outputs": [],
   "source": [
    "# Create DataFrames\n",
    "df_male = df.loc[df.gender == 'M']\n",
    "df_female = df.loc[df.gender == 'F']"
   ]
  },
  {
   "cell_type": "code",
   "execution_count": 120,
   "metadata": {},
   "outputs": [
    {
     "data": {
      "text/html": [
       "<div>\n",
       "<style scoped>\n",
       "    .dataframe tbody tr th:only-of-type {\n",
       "        vertical-align: middle;\n",
       "    }\n",
       "\n",
       "    .dataframe tbody tr th {\n",
       "        vertical-align: top;\n",
       "    }\n",
       "\n",
       "    .dataframe thead th {\n",
       "        text-align: right;\n",
       "    }\n",
       "</style>\n",
       "<table border=\"1\" class=\"dataframe\">\n",
       "  <thead>\n",
       "    <tr style=\"text-align: right;\">\n",
       "      <th></th>\n",
       "      <th>temperature</th>\n",
       "      <th>heart_rate</th>\n",
       "    </tr>\n",
       "  </thead>\n",
       "  <tbody>\n",
       "    <tr>\n",
       "      <th>count</th>\n",
       "      <td>65.000000</td>\n",
       "      <td>65.000000</td>\n",
       "    </tr>\n",
       "    <tr>\n",
       "      <th>mean</th>\n",
       "      <td>98.104615</td>\n",
       "      <td>73.369231</td>\n",
       "    </tr>\n",
       "    <tr>\n",
       "      <th>std</th>\n",
       "      <td>0.698756</td>\n",
       "      <td>5.875184</td>\n",
       "    </tr>\n",
       "    <tr>\n",
       "      <th>min</th>\n",
       "      <td>96.300000</td>\n",
       "      <td>58.000000</td>\n",
       "    </tr>\n",
       "    <tr>\n",
       "      <th>25%</th>\n",
       "      <td>97.600000</td>\n",
       "      <td>70.000000</td>\n",
       "    </tr>\n",
       "    <tr>\n",
       "      <th>50%</th>\n",
       "      <td>98.100000</td>\n",
       "      <td>73.000000</td>\n",
       "    </tr>\n",
       "    <tr>\n",
       "      <th>75%</th>\n",
       "      <td>98.600000</td>\n",
       "      <td>78.000000</td>\n",
       "    </tr>\n",
       "    <tr>\n",
       "      <th>max</th>\n",
       "      <td>99.500000</td>\n",
       "      <td>86.000000</td>\n",
       "    </tr>\n",
       "  </tbody>\n",
       "</table>\n",
       "</div>"
      ],
      "text/plain": [
       "       temperature  heart_rate\n",
       "count    65.000000   65.000000\n",
       "mean     98.104615   73.369231\n",
       "std       0.698756    5.875184\n",
       "min      96.300000   58.000000\n",
       "25%      97.600000   70.000000\n",
       "50%      98.100000   73.000000\n",
       "75%      98.600000   78.000000\n",
       "max      99.500000   86.000000"
      ]
     },
     "execution_count": 120,
     "metadata": {},
     "output_type": "execute_result"
    }
   ],
   "source": [
    "df_male.describe()"
   ]
  },
  {
   "cell_type": "code",
   "execution_count": 121,
   "metadata": {},
   "outputs": [
    {
     "data": {
      "text/html": [
       "<div>\n",
       "<style scoped>\n",
       "    .dataframe tbody tr th:only-of-type {\n",
       "        vertical-align: middle;\n",
       "    }\n",
       "\n",
       "    .dataframe tbody tr th {\n",
       "        vertical-align: top;\n",
       "    }\n",
       "\n",
       "    .dataframe thead th {\n",
       "        text-align: right;\n",
       "    }\n",
       "</style>\n",
       "<table border=\"1\" class=\"dataframe\">\n",
       "  <thead>\n",
       "    <tr style=\"text-align: right;\">\n",
       "      <th></th>\n",
       "      <th>temperature</th>\n",
       "      <th>heart_rate</th>\n",
       "    </tr>\n",
       "  </thead>\n",
       "  <tbody>\n",
       "    <tr>\n",
       "      <th>count</th>\n",
       "      <td>65.000000</td>\n",
       "      <td>65.000000</td>\n",
       "    </tr>\n",
       "    <tr>\n",
       "      <th>mean</th>\n",
       "      <td>98.393846</td>\n",
       "      <td>74.153846</td>\n",
       "    </tr>\n",
       "    <tr>\n",
       "      <th>std</th>\n",
       "      <td>0.743488</td>\n",
       "      <td>8.105227</td>\n",
       "    </tr>\n",
       "    <tr>\n",
       "      <th>min</th>\n",
       "      <td>96.400000</td>\n",
       "      <td>57.000000</td>\n",
       "    </tr>\n",
       "    <tr>\n",
       "      <th>25%</th>\n",
       "      <td>98.000000</td>\n",
       "      <td>68.000000</td>\n",
       "    </tr>\n",
       "    <tr>\n",
       "      <th>50%</th>\n",
       "      <td>98.400000</td>\n",
       "      <td>76.000000</td>\n",
       "    </tr>\n",
       "    <tr>\n",
       "      <th>75%</th>\n",
       "      <td>98.800000</td>\n",
       "      <td>80.000000</td>\n",
       "    </tr>\n",
       "    <tr>\n",
       "      <th>max</th>\n",
       "      <td>100.800000</td>\n",
       "      <td>89.000000</td>\n",
       "    </tr>\n",
       "  </tbody>\n",
       "</table>\n",
       "</div>"
      ],
      "text/plain": [
       "       temperature  heart_rate\n",
       "count    65.000000   65.000000\n",
       "mean     98.393846   74.153846\n",
       "std       0.743488    8.105227\n",
       "min      96.400000   57.000000\n",
       "25%      98.000000   68.000000\n",
       "50%      98.400000   76.000000\n",
       "75%      98.800000   80.000000\n",
       "max     100.800000   89.000000"
      ]
     },
     "execution_count": 121,
     "metadata": {},
     "output_type": "execute_result"
    }
   ],
   "source": [
    "df_female.describe()"
   ]
  },
  {
   "cell_type": "code",
   "execution_count": 122,
   "metadata": {},
   "outputs": [
    {
     "data": {
      "text/plain": [
       "(65, 3)"
      ]
     },
     "execution_count": 122,
     "metadata": {},
     "output_type": "execute_result"
    }
   ],
   "source": [
    "df_male.shape"
   ]
  },
  {
   "cell_type": "code",
   "execution_count": 123,
   "metadata": {},
   "outputs": [
    {
     "data": {
      "text/plain": [
       "(65, 3)"
      ]
     },
     "execution_count": 123,
     "metadata": {},
     "output_type": "execute_result"
    }
   ],
   "source": [
    "df_female.shape"
   ]
  },
  {
   "cell_type": "markdown",
   "metadata": {},
   "source": [
    "### Graph Distributions"
   ]
  },
  {
   "cell_type": "code",
   "execution_count": 146,
   "metadata": {},
   "outputs": [
    {
     "data": {
      "image/png": "[encoded data removed]",
      "text/plain": [
       "<matplotlib.figure.Figure at 0x10e307f98>"
      ]
     },
     "metadata": {},
     "output_type": "display_data"
    }
   ],
   "source": [
    "# Compute ECDF for versicolor data: x_vers, y_vers\n",
    "x_f, y_f = ecdf(df_male.temperature)\n",
    "\n",
    "# Generate plot\n",
    "female_temp, = plt.plot(x_f, y_f, marker='.', linestyle='none', color='b', label='Female Temp')\n",
    "\n",
    "# Compute ECDF for versicolor data: x_vers, y_vers\n",
    "x_m, y_m = ecdf(df_female.temperature)\n",
    "\n",
    "# Generate plot\n",
    "male_temp, = plt.plot(x_m, y_m, marker='.', linestyle='none', color='g', label='Male Temp')\n",
    "\n",
    "# Make the margins nice\n",
    "plt.margins(.02)\n",
    "\n",
    "# Label the axes\n",
    "plt.xlabel('Temperature')\n",
    "plt.ylabel('ECDF')\n",
    "plt.title('Female/Male Temperature Distribution')\n",
    "plt.legend(handles=[female_temp, male_temp])\n",
    "plt.show()"
   ]
  },
  {
   "cell_type": "markdown",
   "metadata": {},
   "source": [
    "The distributions are fairly close, and approximately normal. It's clear that the female subjects have a greater temperature on average, as confirmed by the mean in the dataframes above."
   ]
  },
  {
   "cell_type": "markdown",
   "metadata": {},
   "source": [
    "### Check Male/Female 99 Percentile Using Bootstrap Method"
   ]
  },
  {
   "cell_type": "code",
   "execution_count": 118,
   "metadata": {},
   "outputs": [
    {
     "name": "stdout",
     "output_type": "stream",
     "text": [
      "Male normal temps: [96.3 99.5] in range 99%.\n"
     ]
    }
   ],
   "source": [
    "bootstrap_data_male = np.random.choice(df_male.temperature, size=10000)\n",
    "abnormal_temp_bs_male = confidence_Interval(99, bootstrap_data_male)\n",
    "print(\"Male normal temps:\", abnormal_temp_bs_male, \"in range 99%.\")"
   ]
  },
  {
   "cell_type": "code",
   "execution_count": 119,
   "metadata": {},
   "outputs": [
    {
     "name": "stdout",
     "output_type": "stream",
     "text": [
      "Female normal temps: [ 96.4 100.8] in range 99%.\n"
     ]
    }
   ],
   "source": [
    "bootstrap_data_female = np.random.choice(df_female.temperature, size=10000)\n",
    "abnormal_temp_bs_female = confidence_Interval(99, bootstrap_data_female)\n",
    "print(\"Female normal temps:\", abnormal_temp_bs_female, \"in range 99%.\")"
   ]
  },
  {
   "cell_type": "markdown",
   "metadata": {},
   "source": [
    "According to our sample, the range of normal temperatures for males and females are different, but is the difference significant? Since both distributions are approximately normal, we can answer this question by analyzing the mean. "
   ]
  },
  {
   "cell_type": "markdown",
   "metadata": {},
   "source": [
    "### Female / Male Mean Temps"
   ]
  },
  {
   "cell_type": "code",
   "execution_count": 152,
   "metadata": {},
   "outputs": [
    {
     "name": "stdout",
     "output_type": "stream",
     "text": [
      "Male Mean Temp:  98.1046153846154\n",
      "Female Mean Temp:  98.39384615384613\n"
     ]
    }
   ],
   "source": [
    "print(\"Male Mean Temp: \", np.mean(df_male.temperature))\n",
    "print(\"Female Mean Temp: \", np.mean(df_female.temperature))"
   ]
  },
  {
   "cell_type": "markdown",
   "metadata": {},
   "source": [
    "This is nearly a difference of 0.3. Let's do a permutation test to see if the difference is by chance."
   ]
  },
  {
   "cell_type": "markdown",
   "metadata": {},
   "source": [
    "### Permutation Test"
   ]
  },
  {
   "cell_type": "markdown",
   "metadata": {},
   "source": [
    "#### Required Functions"
   ]
  },
  {
   "cell_type": "code",
   "execution_count": 155,
   "metadata": {},
   "outputs": [],
   "source": [
    "# Create permutation sample\n",
    "def permutation_sample(data1, data2):\n",
    "    \"\"\"Generate a permutation sample from two data sets.\"\"\"\n",
    "\n",
    "    # Concatenate the data sets: data\n",
    "    data = np.concatenate((data1, data2))\n",
    "\n",
    "    # Permute the concatenated array: permuted_data\n",
    "    permuted_data = np.random.permutation(data)\n",
    "\n",
    "    # Split the permuted array into two: perm_sample_1, perm_sample_2\n",
    "    perm_sample_1 = permuted_data[:len(data1)]\n",
    "    perm_sample_2 = permuted_data[len(data1):]\n",
    "\n",
    "    return perm_sample_1, perm_sample_2\n",
    "\n",
    "# Create permutation replicates\n",
    "def draw_perm_reps(data_1, data_2, func, size=1):\n",
    "    \"\"\"Generate multiple permutation replicates.\"\"\"\n",
    "\n",
    "    # Initialize array of replicates: perm_replicates\n",
    "    perm_replicates = np.empty(size)\n",
    "\n",
    "    for i in range(size):\n",
    "        # Generate permutation sample\n",
    "        perm_sample_1, perm_sample_2 = permutation_sample(data_1, data_2)\n",
    "\n",
    "        # Compute the test statistic\n",
    "        perm_replicates[i] = func(perm_sample_1, perm_sample_2)\n",
    "\n",
    "    return perm_replicates\n",
    "\n",
    "# Find difference of means\n",
    "def diff_of_means(data_1, data_2):\n",
    "    \"\"\"Difference in means of two arrays.\"\"\"\n",
    "\n",
    "    # The difference of means of data_1, data_2: diff\n",
    "    diff = np.mean(data_1)-np.mean(data_2)\n",
    "\n",
    "    return diff"
   ]
  },
  {
   "cell_type": "markdown",
   "metadata": {},
   "source": [
    "#### Compute Probability That Difference of Female/Male Temps is Due to Chance"
   ]
  },
  {
   "cell_type": "code",
   "execution_count": 160,
   "metadata": {},
   "outputs": [
    {
     "name": "stdout",
     "output_type": "stream",
     "text": [
      "p-value = 0.0131\n"
     ]
    }
   ],
   "source": [
    "# Compute difference of means\n",
    "empirical_diff_means = diff_of_means(df_female.temperature, df_male.temperature)\n",
    "\n",
    "# Draw 10,000 permutation replicates: perm_replicates\n",
    "perm_replicates = draw_perm_reps(df_female.temperature, df_male.temperature,\n",
    "                                 diff_of_means, size=10000)\n",
    "\n",
    "# Compute p-value: p\n",
    "p = np.sum(perm_replicates >= empirical_diff_means) / len(perm_replicates)\n",
    "\n",
    "# Print the result\n",
    "print('p-value =', p)"
   ]
  },
  {
   "cell_type": "markdown",
   "metadata": {},
   "source": [
    "Of 10,000 samples, 0.0131 have a difference of mean greater than our sample. This is significant at the 95% level, but not quite at the 99% level. We can conclude that it's fairly likely the difference in normal temperatures is not due to chance."
   ]
  },
  {
   "cell_type": "markdown",
   "metadata": {},
   "source": [
    "## Conclusion"
   ]
  },
  {
   "cell_type": "markdown",
   "metadata": {},
   "source": [
    "The results are stunning. It's very likely that the mean temperature of 96.8 passed down from Wunderlich in the 1800s is close to accurate, but wrong. It's also likely that females and males have different normal temperatures, although more data analysis is needed for confirmation."
   ]
  },
  {
   "cell_type": "code",
   "execution_count": null,
   "metadata": {},
   "outputs": [],
   "source": []
  }
 ],
 "metadata": {
  "kernelspec": {
   "display_name": "Python 3",
   "language": "python",
   "name": "python3"
  },
  "language_info": {
   "codemirror_mode": {
    "name": "ipython",
    "version": 3
   },
   "file_extension": ".py",
   "mimetype": "text/x-python",
   "name": "python",
   "nbconvert_exporter": "python",
   "pygments_lexer": "ipython3",
   "version": "3.6.4"
  }
 },
 "nbformat": 4,
 "nbformat_minor": 1
}
